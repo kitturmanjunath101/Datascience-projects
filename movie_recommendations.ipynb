{
  "nbformat": 4,
  "nbformat_minor": 0,
  "metadata": {
    "colab": {
      "provenance": [],
      "authorship_tag": "ABX9TyPuu93shTmLoZ9mvwb8fk+J",
      "include_colab_link": true
    },
    "kernelspec": {
      "name": "python3",
      "display_name": "Python 3"
    },
    "language_info": {
      "name": "python"
    }
  },
  "cells": [
    {
      "cell_type": "markdown",
      "metadata": {
        "id": "view-in-github",
        "colab_type": "text"
      },
      "source": [
        "<a href=\"https://colab.research.google.com/github/kitturmanjunath101/Datascience-projects/blob/main/movie_recommendations.ipynb\" target=\"_parent\"><img src=\"https://colab.research.google.com/assets/colab-badge.svg\" alt=\"Open In Colab\"/></a>"
      ]
    },
    {
      "cell_type": "code",
      "execution_count": 14,
      "metadata": {
        "colab": {
          "base_uri": "https://localhost:8080/"
        },
        "id": "vmdPu6sSFmel",
        "outputId": "d4138a78-4643-4a6f-d7c2-9f55eef44ce2"
      },
      "outputs": [
        {
          "output_type": "stream",
          "name": "stdout",
          "text": [
            "    movieId                                  title  \\\n",
            "0         1                       Toy Story (1995)   \n",
            "1         2                         Jumanji (1995)   \n",
            "2         3                Grumpier Old Men (1995)   \n",
            "3         4               Waiting to Exhale (1995)   \n",
            "4         5     Father of the Bride Part II (1995)   \n",
            "5         6                            Heat (1995)   \n",
            "6         7                         Sabrina (1995)   \n",
            "7         8                    Tom and Huck (1995)   \n",
            "8         9                    Sudden Death (1995)   \n",
            "9        10                       GoldenEye (1995)   \n",
            "10       11         American President, The (1995)   \n",
            "11       12     Dracula: Dead and Loving It (1995)   \n",
            "12       13                           Balto (1995)   \n",
            "13       14                           Nixon (1995)   \n",
            "14       15                Cutthroat Island (1995)   \n",
            "15       16                          Casino (1995)   \n",
            "16       17           Sense and Sensibility (1995)   \n",
            "17       18                      Four Rooms (1995)   \n",
            "18       19  Ace Ventura: When Nature Calls (1995)   \n",
            "19       20                     Money Train (1995)   \n",
            "\n",
            "                                         genres  \n",
            "0   Adventure|Animation|Children|Comedy|Fantasy  \n",
            "1                    Adventure|Children|Fantasy  \n",
            "2                                Comedy|Romance  \n",
            "3                          Comedy|Drama|Romance  \n",
            "4                                        Comedy  \n",
            "5                         Action|Crime|Thriller  \n",
            "6                                Comedy|Romance  \n",
            "7                            Adventure|Children  \n",
            "8                                        Action  \n",
            "9                     Action|Adventure|Thriller  \n",
            "10                         Comedy|Drama|Romance  \n",
            "11                                Comedy|Horror  \n",
            "12                 Adventure|Animation|Children  \n",
            "13                                        Drama  \n",
            "14                     Action|Adventure|Romance  \n",
            "15                                  Crime|Drama  \n",
            "16                                Drama|Romance  \n",
            "17                                       Comedy  \n",
            "18                                       Comedy  \n",
            "19           Action|Comedy|Crime|Drama|Thriller  \n",
            "   userId  movieId  rating   timestamp\n",
            "0       1      296     5.0  1147880044\n",
            "1       1      306     3.5  1147868817\n",
            "2       1      307     5.0  1147868828\n",
            "3       1      665     5.0  1147878820\n",
            "4       1      899     3.5  1147868510\n"
          ]
        }
      ],
      "source": [
        "import pandas as pd\n",
        "import numpy as np\n",
        "import matplotlib.pyplot as plt\n",
        "import seaborn as sns\n",
        "from sklearn.feature_extraction.text import TfidfVectorizer\n",
        "\n",
        "#importing the dataset\n",
        "movies_df = pd.read_csv('movies.csv')\n",
        "ratings_df = pd.read_csv('ratings.csv')\n",
        "print(movies_df.head(20))\n",
        "print(ratings_df.head())\n"
      ]
    },
    {
      "cell_type": "code",
      "source": [
        "#dropping the null values\n",
        "movies_df.dropna(inplace=True)\n",
        "movies_df.fillna(\"Unknown\", inplace=True)\n",
        "\n",
        "#filling null values with Nan\n",
        "movies_df['genres'] = movies_df['genres'].fillna(\"\")\n",
        "\n",
        "#checking again for null values\n",
        "print(movies_df['genres'].head())\n",
        "\n",
        "\n",
        "#checking of null values\n",
        "print(movies_df.isnull().sum())\n",
        "print(ratings_df.isnull().sum())"
      ],
      "metadata": {
        "colab": {
          "base_uri": "https://localhost:8080/"
        },
        "id": "gf1K7ivVJWQE",
        "outputId": "3da25d72-0851-42d8-9b77-6591e22c1b94"
      },
      "execution_count": 27,
      "outputs": [
        {
          "output_type": "stream",
          "name": "stdout",
          "text": [
            "0    Adventure|Animation|Children|Comedy|Fantasy\n",
            "1                     Adventure|Children|Fantasy\n",
            "2                                 Comedy|Romance\n",
            "3                           Comedy|Drama|Romance\n",
            "4                                         Comedy\n",
            "Name: genres, dtype: object\n",
            "movieId    0\n",
            "title      0\n",
            "genres     0\n",
            "dtype: int64\n",
            "userId       0\n",
            "movieId      0\n",
            "rating       0\n",
            "timestamp    0\n",
            "dtype: int64\n"
          ]
        }
      ]
    },
    {
      "cell_type": "code",
      "source": [
        "#extracting important features\n",
        "movies_df = movies_df[['movieId', 'title', 'genres']]\n",
        "print(movies_df.head())"
      ],
      "metadata": {
        "colab": {
          "base_uri": "https://localhost:8080/"
        },
        "id": "8yRhkSKSIBE6",
        "outputId": "ddc15be4-4c4a-4e1c-8739-f8316564bcd0"
      },
      "execution_count": 9,
      "outputs": [
        {
          "output_type": "stream",
          "name": "stdout",
          "text": [
            "   movieId                               title  \\\n",
            "0        1                    Toy Story (1995)   \n",
            "1        2                      Jumanji (1995)   \n",
            "2        3             Grumpier Old Men (1995)   \n",
            "3        4            Waiting to Exhale (1995)   \n",
            "4        5  Father of the Bride Part II (1995)   \n",
            "\n",
            "                                        genres  \n",
            "0  Adventure|Animation|Children|Comedy|Fantasy  \n",
            "1                   Adventure|Children|Fantasy  \n",
            "2                               Comedy|Romance  \n",
            "3                         Comedy|Drama|Romance  \n",
            "4                                       Comedy  \n"
          ]
        }
      ]
    },
    {
      "cell_type": "code",
      "source": [
        "#genres are stored as a string like \"Action|Adventure|Fantasy\". Let's convert them into a list:\n",
        "\n",
        "# Convert genres into a list format\n",
        "movies_df['genres'] = movies_df['genres'].apply(lambda x: x.split('|'))\n",
        "print(movies_df.head())\n"
      ],
      "metadata": {
        "colab": {
          "base_uri": "https://localhost:8080/"
        },
        "id": "EmZt6zrYIDAm",
        "outputId": "874d9843-3a80-4d2f-8446-f165aa0d9c2a"
      },
      "execution_count": 10,
      "outputs": [
        {
          "output_type": "stream",
          "name": "stdout",
          "text": [
            "   movieId                               title  \\\n",
            "0        1                    Toy Story (1995)   \n",
            "1        2                      Jumanji (1995)   \n",
            "2        3             Grumpier Old Men (1995)   \n",
            "3        4            Waiting to Exhale (1995)   \n",
            "4        5  Father of the Bride Part II (1995)   \n",
            "\n",
            "                                              genres  \n",
            "0  [Adventure, Animation, Children, Comedy, Fantasy]  \n",
            "1                     [Adventure, Children, Fantasy]  \n",
            "2                                  [Comedy, Romance]  \n",
            "3                           [Comedy, Drama, Romance]  \n",
            "4                                           [Comedy]  \n"
          ]
        }
      ]
    },
    {
      "cell_type": "code",
      "source": [
        "#To build the recommendation system, we need to combine movies and ratings based on movieId:\n",
        "\n",
        "# Merge datasets on movieId\n",
        "merged_df = ratings_df.merge(movies_df, on=\"movieId\")\n",
        "print(merged_df.head())\n"
      ],
      "metadata": {
        "colab": {
          "base_uri": "https://localhost:8080/"
        },
        "id": "RN23dyz5IZeG",
        "outputId": "f7faeee5-6d83-4614-e712-39dc2b16b2ee"
      },
      "execution_count": 11,
      "outputs": [
        {
          "output_type": "stream",
          "name": "stdout",
          "text": [
            "   userId  movieId  rating   timestamp  \\\n",
            "0       1      296     5.0  1147880044   \n",
            "1       1      306     3.5  1147868817   \n",
            "2       1      307     5.0  1147868828   \n",
            "3       1      665     5.0  1147878820   \n",
            "4       1      899     3.5  1147868510   \n",
            "\n",
            "                                              title  \\\n",
            "0                               Pulp Fiction (1994)   \n",
            "1  Three Colors: Red (Trois couleurs: Rouge) (1994)   \n",
            "2  Three Colors: Blue (Trois couleurs: Bleu) (1993)   \n",
            "3                                Underground (1995)   \n",
            "4                        Singin' in the Rain (1952)   \n",
            "\n",
            "                             genres  \n",
            "0  [Comedy, Crime, Drama, Thriller]  \n",
            "1                           [Drama]  \n",
            "2                           [Drama]  \n",
            "3              [Comedy, Drama, War]  \n",
            "4        [Comedy, Musical, Romance]  \n"
          ]
        }
      ]
    },
    {
      "cell_type": "markdown",
      "source": [
        "build a content based recommendation system"
      ],
      "metadata": {
        "id": "N4VHIPy0J8W_"
      }
    },
    {
      "cell_type": "code",
      "source": [
        "#Since genres are in a list format, we need to convert them into a string for vectorization.\n",
        "# Convert genres list to a string\n",
        "import pandas as pd\n",
        "movies_df['genres'] = movies_df['genres'].apply(lambda x: ''.join(x))\n",
        "print(movies_df.head())\n"
      ],
      "metadata": {
        "colab": {
          "base_uri": "https://localhost:8080/"
        },
        "id": "1zNm-ErDJYpO",
        "outputId": "019069a1-c358-496d-ff6b-2f2162e62ded"
      },
      "execution_count": 23,
      "outputs": [
        {
          "output_type": "stream",
          "name": "stdout",
          "text": [
            "   movieId                               title  \\\n",
            "0        1                    Toy Story (1995)   \n",
            "1        2                      Jumanji (1995)   \n",
            "2        3             Grumpier Old Men (1995)   \n",
            "3        4            Waiting to Exhale (1995)   \n",
            "4        5  Father of the Bride Part II (1995)   \n",
            "\n",
            "                                              genres  \n",
            "0  A   d   v   e   n   t   u   r   e   |   A   n ...  \n",
            "1  A   d   v   e   n   t   u   r   e   |   C   h ...  \n",
            "2  C   o   m   e   d   y   |   R   o   m   a   n ...  \n",
            "3  C   o   m   e   d   y   |   D   r   a   m   a ...  \n",
            "4                              C   o   m   e   d   y  \n"
          ]
        }
      ]
    },
    {
      "cell_type": "code",
      "source": [
        "#Ensure Genres Are Strings\n",
        "\n",
        "#If genres are lists, convert them to space-separated strings\n",
        "movies_df['genres'] = movies_df['genres'].apply(lambda x: ' '.join(x) if isinstance(x, list) else x)\n"
      ],
      "metadata": {
        "id": "B3c3YRNGLZ41"
      },
      "execution_count": 28,
      "outputs": []
    },
    {
      "cell_type": "code",
      "source": [
        "#Convert Text into Numerical Features (TF-IDF Vectorization)\n",
        "\n",
        "#To compare movie genres, we'll use TF-IDF (Term Frequency-Inverse Document Frequency).from sklearn.feature_extraction.text import TfidfVectorizer\n",
        "\n",
        "tfidf = TfidfVectorizer(stop_words='english')\n",
        "\n",
        "# Transform the genres column\n",
        "tfidf_matrix = tfidf.fit_transform(movies_df['genres'])\n",
        "\n",
        "print(tfidf_matrix.shape)"
      ],
      "metadata": {
        "colab": {
          "base_uri": "https://localhost:8080/"
        },
        "id": "M5EKjJtTM8R6",
        "outputId": "e3df1746-33fa-4cfd-8528-7bac51359a76"
      },
      "execution_count": 29,
      "outputs": [
        {
          "output_type": "stream",
          "name": "stdout",
          "text": [
            "(62423, 23)\n"
          ]
        }
      ]
    },
    {
      "cell_type": "code",
      "source": [
        "#Compute Similarity Between Movies\n",
        "\n",
        "#Now, we calculate cosine similarity between movies. Higher similarity means more relevance!\n",
        "from sklearn.feature_extraction.text import TfidfVectorizer\n",
        "\n",
        "# Fill NaN values (if any)\n",
        "#movies_df['genres'] = movies_df['genres'].fillna(\" \")\n",
        "\n",
        "# Convert genres to a string format\n",
        "movies_df['genres'] = movies_df['genres'].apply(lambda x: ' '.join(x) if isinstance(x, list) else x)\n",
        "\n",
        "# Create and apply TF-IDF Vectorizer\n",
        "tfidf = TfidfVectorizer(stop_words='english')\n",
        "tfidf_matrix = tfidf.fit_transform(movies_df['genres'])\n",
        "\n",
        "print(tfidf_matrix.shape)  # Should print (number of movies, unique genres)\n",
        "\n",
        "\n"
      ],
      "metadata": {
        "colab": {
          "base_uri": "https://localhost:8080/"
        },
        "id": "513Qhk7PNHnM",
        "outputId": "73ab2ed8-f9ea-4f0c-8331-27d84f6f2d8e"
      },
      "execution_count": 10,
      "outputs": [
        {
          "output_type": "stream",
          "name": "stdout",
          "text": [
            "(62423, 23)\n"
          ]
        }
      ]
    },
    {
      "cell_type": "code",
      "source": [
        "movies_df['title'] = movies_df['title'].str.strip()\n"
      ],
      "metadata": {
        "id": "8ajgoCdGIMNM"
      },
      "execution_count": 25,
      "outputs": []
    },
    {
      "cell_type": "code",
      "source": [
        "import re\n",
        "\n",
        "def clean_title(title):\n",
        "    return re.sub(r\"\\(\\d{4}\\)\", \"\", title).strip()  # Removes (YYYY) from the title\n",
        "\n",
        "movies_df['title_cleaned'] = movies_df['title'].apply(clean_title)\n",
        "movie_indices = pd.Series(movies_df.index, index=movies_df['title_cleaned']).drop_duplicates()\n"
      ],
      "metadata": {
        "id": "N1-P60EeIPRz"
      },
      "execution_count": 26,
      "outputs": []
    },
    {
      "source": [
        "def recommend_movies(title, num_recommendations=5):\n",
        "    if title not in movie_indices:\n",
        "        return \"Movie not found! Try another movie title.\"\n",
        "\n",
        "    # Get movie index\n",
        "    idx = movie_indices[title]\n",
        "    print(f\"Movie Index: {idx}\")  # Debugging\n",
        "\n",
        "    # Get similarity scores\n",
        "    sim_scores = list(enumerate(cosine_sim[idx]))\n",
        "\n",
        "    # Sort by highest similarity\n",
        "    sim_scores = sorted(sim_scores, key=lambda x: x[1], reverse=True)\n",
        "\n",
        "    # Get the indices of top similar movies\n",
        "    sim_scores = sim_scores[1:num_recommendations+1]\n",
        "    movie_indices_list = [i[0] for i in sim_scores]\n",
        "\n",
        "    print(f\"Recommended Movie Indices: {movie_indices_list}\")  # Debugging\n",
        "\n",
        "    # Return movie titles\n",
        "    return movies_df['title'].iloc[movie_indices_list]\n",
        "\n",
        "# Test again\n",
        "print(recommend_movies(\"Toy Story (1995)\"))\n"
      ],
      "cell_type": "code",
      "metadata": {
        "colab": {
          "base_uri": "https://localhost:8080/"
        },
        "id": "BJ-3VotLCaxU",
        "outputId": "2f9a3b46-5f1c-47d4-fa94-1c332683b3ee"
      },
      "execution_count": 30,
      "outputs": [
        {
          "output_type": "stream",
          "name": "stdout",
          "text": [
            "Movie not found! Try another movie title.\n"
          ]
        }
      ]
    },
    {
      "cell_type": "code",
      "source": [
        "import matplotlib.pyplot as plt\n",
        "import seaborn as sns\n",
        "\n",
        "# Count the most common genres\n",
        "genre_counts = movies_df['genres'].str.split('|').explode().value_counts()\n",
        "\n",
        "# Plot\n",
        "plt.figure(figsize=(12,6))\n",
        "sns.barplot(x=genre_counts.index[:10], y=genre_counts.values[:10], palette=\"viridis\")\n",
        "plt.xticks(rotation=45)\n",
        "plt.xlabel(\"Genres\")\n",
        "plt.ylabel(\"Number of Movies\")\n",
        "plt.title(\"Top 10 Most Common Movie Genres\")\n",
        "plt.show()\n"
      ],
      "metadata": {
        "colab": {
          "base_uri": "https://localhost:8080/",
          "height": 746
        },
        "id": "_DO-kTWdIp8n",
        "outputId": "4a4f8f93-5967-4b8f-a44d-b0465c13fc0c"
      },
      "execution_count": 36,
      "outputs": [
        {
          "output_type": "stream",
          "name": "stderr",
          "text": [
            "<ipython-input-36-547aaa006126>:9: FutureWarning: \n",
            "\n",
            "Passing `palette` without assigning `hue` is deprecated and will be removed in v0.14.0. Assign the `x` variable to `hue` and set `legend=False` for the same effect.\n",
            "\n",
            "  sns.barplot(x=genre_counts.index[:10], y=genre_counts.values[:10], palette=\"viridis\")\n"
          ]
        },
        {
          "output_type": "display_data",
          "data": {
            "text/plain": [
              "<Figure size 1200x600 with 1 Axes>"
            ],
            "image/png": "[encoded data removed]"
          },
          "metadata": {}
        }
      ]
    }
  ]
}